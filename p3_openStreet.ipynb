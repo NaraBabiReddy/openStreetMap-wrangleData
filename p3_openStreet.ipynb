{
 "cells": [
  {
   "cell_type": "markdown",
   "metadata": {},
   "source": [
    "<h1> Section 1: Verify the file content"
   ]
  },
  {
   "cell_type": "code",
   "execution_count": 19,
   "metadata": {
    "collapsed": false
   },
   "outputs": [],
   "source": [
    "# I would like to first verify if OSM file elements match with documentation ! \n",
    "# Just to make sure file is not corrupt or contains data not explained in documentation\n",
    "# http://wiki.openstreetmap.org/wiki/OSM_XML\n",
    "# Verify file has only 3 instances (node, way, relation) \n",
    "# Print summary on number of elements and their attributes \n",
    "\n",
    "# you might see these import functions in all of the sections. \n",
    "# so I don't have to run code from 1st section when I restart my computer\n",
    "import pprint\n",
    "import re\n",
    "import xml.etree.cElementTree as ET\n",
    "\n",
    "osm_file = 'BuffaloNiagaraArea.osm'\n",
    "counter = 1\n",
    "context = ET.iterparse(osm_file, events=('start', 'end'))\n",
    "_, root = next(context)\n",
    "\n",
    "intsances = set()\n",
    "elemsAttribs = {}\n",
    "startElm = None\n",
    "for event, elem in context:\n",
    "    if event == 'start' and startElm == None:\n",
    "        # store each level-1 elemnt after root and add to instances when event reaches end of that element\n",
    "        startElm = elem\n",
    "    if event == 'end' and startElm == elem:\n",
    "        intsances.add(elem.tag)\n",
    "        # Lets build dictionary of all elements and their attributes\n",
    "        if elem.tag not in elemsAttribs:\n",
    "            elemsAttribs[elem.tag] = {'attributes': set(list(elem.attrib.keys())), 'children': {}}\n",
    "        else:\n",
    "            for attrib in elem.attrib.keys():\n",
    "                elemsAttribs[elem.tag]['attributes'].add(attrib)\n",
    "        \n",
    "        for child in elem.iter():\n",
    "            if child <> elem:\n",
    "                if child.tag not in elemsAttribs[elem.tag]['children']:\n",
    "                    elemsAttribs[elem.tag]['children'][child.tag] = set(list(child.attrib.keys()))\n",
    "                else:\n",
    "                    for attrib in child.attrib.keys():\n",
    "                        elemsAttribs[elem.tag]['children'][child.tag].add(attrib)\n",
    "        \n",
    "        startElm = None\n",
    "        root.clear()\n",
    "        \n",
    "print 'instances: ', intsances, '\\n'\n",
    "print 'instances-Attributes-Children:'\n",
    "pprint.pprint(elemsAttribs)"
   ]
  },
  {
   "cell_type": "markdown",
   "metadata": {},
   "source": [
    "<h1> Section 2: What is \"k\" and \"role\""
   ]
  },
  {
   "cell_type": "code",
   "execution_count": 2,
   "metadata": {
    "collapsed": false,
    "scrolled": false
   },
   "outputs": [],
   "source": [
    "# build dictionary for values in attributes k and role with their count\n",
    "\n",
    "import pprint\n",
    "import re\n",
    "import xml.etree.cElementTree as ET\n",
    "\n",
    "osm_file = 'BuffaloNiagaraArea.osm'\n",
    "counter = 1\n",
    "context = ET.iterparse(osm_file, events=('start', 'end'))\n",
    "_, root = next(context)\n",
    "\n",
    "k_role_vals = {\n",
    "                'node': {'k': {}},   #K dictionary will have their values and count\n",
    "                'way': {'k': {}}, \n",
    "                'relation':{'k': {}, 'role': {}}  #role dictionary will have their values and count\n",
    "                }\n",
    "for event, elem in context:\n",
    "    if elem.tag in ['node', 'way', 'relation'] and event == 'end':\n",
    "        for child in elem.iter('tag'):\n",
    "            if 'k' in child.attrib:\n",
    "                if child.attrib['k'] in k_role_vals[elem.tag]['k']:\n",
    "                    k_role_vals[elem.tag]['k'][child.attrib['k']] += 1  #increment count for value of \"k\"\n",
    "                else:\n",
    "                    k_role_vals[elem.tag]['k'][child.attrib['k']] = 1 #append value of \"k\" into k dictionary\n",
    "            else:\n",
    "                # All <tag>'s expected to have attribute k \n",
    "                print 'No key in one of the tags ', elem.attrib\n",
    "\n",
    "    if elem.tag == 'relation' and event == 'end':\n",
    "        for child in elem.iter('member'):\n",
    "            if 'role' in child.attrib:\n",
    "                if child.attrib['role'] in k_role_vals[elem.tag]['role']:\n",
    "                    k_role_vals[elem.tag]['role'][child.attrib['role']] += 1 \n",
    "                else:\n",
    "                    k_role_vals[elem.tag]['role'][child.attrib['role']] = 1\n",
    "    \n",
    "    if event == 'end':\n",
    "        root.clear()\n",
    "        \n",
    "pprint.pprint(k_role_vals)"
   ]
  },
  {
   "cell_type": "markdown",
   "metadata": {},
   "source": [
    "<h1> Section 3"
   ]
  },
  {
   "cell_type": "code",
   "execution_count": 3,
   "metadata": {
    "collapsed": false
   },
   "outputs": [],
   "source": [
    "# print distinct values of Country, City, postcode, state, province with their count\n",
    "\n",
    "import pprint\n",
    "import re\n",
    "import xml.etree.cElementTree as ET\n",
    "\n",
    "osm_file = 'BuffaloNiagaraArea.osm'\n",
    "node_addr_vals = {\n",
    "                'addr:country': {},   \n",
    "                'addr:postcode': {}, \n",
    "                'addr:city': {},  \n",
    "                'addr:state': {},\n",
    "                'addr:province': {}\n",
    "                }\n",
    "\n",
    "context = ET.iterparse(osm_file, events=('start', 'end'))\n",
    "_, root = next(context)\n",
    "for event, elem in context:\n",
    "    if elem.tag == 'node' and event == 'end':\n",
    "        for child in elem.iter('tag'):\n",
    "            if child.attrib['k'] in ['addr:country', 'addr:city', 'addr:postcode', 'addr:state', 'addr:province']:\n",
    "                # Lets add attribute 'v' value as key and count as values into dictionary\n",
    "                if child.attrib['v'] in node_addr_vals[child.attrib['k']]:\n",
    "                    node_addr_vals[child.attrib['k']][child.attrib['v']] += 1 \n",
    "                else:\n",
    "                    node_addr_vals[child.attrib['k']][child.attrib['v']] = 1\n",
    "    if event == 'end':\n",
    "        root.clear()\n",
    "        \n",
    "pprint.pprint(node_addr_vals)"
   ]
  },
  {
   "cell_type": "markdown",
   "metadata": {},
   "source": [
    "<h1> Section 4"
   ]
  },
  {
   "cell_type": "code",
   "execution_count": 4,
   "metadata": {
    "collapsed": false,
    "scrolled": true
   },
   "outputs": [],
   "source": [
    "# check if tag has any other attribute in case node has city Niagara Falls but not having Country, State, postcode\n",
    "\n",
    "import pprint\n",
    "import re\n",
    "import xml.etree.cElementTree as ET\n",
    "\n",
    "osm_file = 'BuffaloNiagaraArea.osm'\n",
    "counter = 1\n",
    "context = ET.iterparse(osm_file, events=('start', 'end'))\n",
    "_, root = next(context)\n",
    "\n",
    "addr_keys = {}  # count of each k attribute in address nodes\n",
    "count_niagara_addrs = 0\n",
    "\n",
    "for event, elem in context:\n",
    "    if elem.tag == 'node' and event == 'end':\n",
    "        tag_data = {}  # store all keys and values of tags.\n",
    "        for child in elem.iter('tag'):\n",
    "            tag_data[child.attrib['k']] = child.attrib['v']\n",
    "            if child.attrib['k'] in ['addr:country','addr:province','addr:state','addr:postcode']:\n",
    "                break   #if node has country/state/postcode, skip that node, we can use one of them to filter Canada\n",
    "        \n",
    "        if 'addr:city' in tag_data and tag_data['addr:city'] in ['City of Niagara Falls', 'Niagara Falls']:\n",
    "            if 'addr:country' not in tag_data and 'addr:province' not in tag_data and \\\n",
    "               'addr:state' not in tag_data and 'addr:postcode' not in tag_data:\n",
    "                    count_niagara_addrs += 1\n",
    "                    for key in tag_data:\n",
    "                        if key in addr_keys:\n",
    "                            addr_keys[key] += 1\n",
    "                        else:\n",
    "                            addr_keys[key] = 1\n",
    "    if event == 'end':\n",
    "        root.clear()\n",
    "\n",
    "print 'Total addresses in Niagara Falls with no country filter data: ', count_niagara_addrs\n",
    "pprint.pprint(addr_keys)"
   ]
  },
  {
   "cell_type": "markdown",
   "metadata": {},
   "source": [
    "<h1> Section 5"
   ]
  },
  {
   "cell_type": "code",
   "execution_count": 76,
   "metadata": {
    "collapsed": false,
    "scrolled": true
   },
   "outputs": [
    {
     "name": "stdout",
     "output_type": "stream",
     "text": [
      "{'CanVec 6.0 - NRCan': 775, 'NRCan-CanVec-10.0': 12658}\n"
     ]
    }
   ],
   "source": [
    "# Lets find out distinct values of Source in address nodes\n",
    "# The code has logic similar to above section in finding nodes to build source values\n",
    "import pprint\n",
    "import re\n",
    "import xml.etree.cElementTree as ET\n",
    "\n",
    "osm_file = 'BuffaloNiagaraArea.osm'\n",
    "counter = 1\n",
    "context = ET.iterparse(osm_file, events=('start', 'end'))\n",
    "_, root = next(context)\n",
    "\n",
    "source_values = {}  # count of each k attribute in address nodes\n",
    "\n",
    "for event, elem in context:\n",
    "    if elem.tag == 'node' and event == 'end':\n",
    "        \n",
    "        tag_data = {}  # store all keys and values of tags.\n",
    "        for child in elem.iter('tag'):\n",
    "            tag_data[child.attrib['k']] = child.attrib['v']\n",
    "            if child.attrib['k'] in ['addr:country','addr:province','addr:state','addr:postcode']:\n",
    "                break   #if node has country/state/postcode, skip that node, we can use one of them to filter Canada\n",
    "        \n",
    "        if 'addr:city' in tag_data and tag_data['addr:city'] in ['City of Niagara Falls', 'Niagara Falls']:\n",
    "            if 'addr:country' not in tag_data and 'addr:province' not in tag_data and \\\n",
    "               'addr:state' not in tag_data and 'addr:postcode' not in tag_data and \\\n",
    "                'source' in tag_data:\n",
    "                    if tag_data['source'] in source_values:\n",
    "                        source_values[tag_data['source']] += 1\n",
    "                    else:\n",
    "                        source_values[tag_data['source']] = 1\n",
    "                    \n",
    "    if event == 'end':\n",
    "        root.clear()\n",
    "\n",
    "pprint.pprint(source_values)"
   ]
  },
  {
   "cell_type": "markdown",
   "metadata": {},
   "source": [
    "<h1> Section 6: Lets look at 'gnis:' data (Geographic Names Information System)"
   ]
  },
  {
   "cell_type": "code",
   "execution_count": 5,
   "metadata": {
    "collapsed": false
   },
   "outputs": [],
   "source": [
    "# Retrieve all keys of gnis nodes and their count\n",
    "\n",
    "import pprint\n",
    "import re\n",
    "import xml.etree.cElementTree as ET\n",
    "\n",
    "osm_file = 'BuffaloNiagaraArea.osm'\n",
    "context = ET.iterparse(osm_file, events=('start', 'end'))\n",
    "_, root = next(context)\n",
    "\n",
    "gnis_keys = {}  # count of each k attribute in gnis nodes\n",
    "count_gnis = 0\n",
    "\n",
    "for event, elem in context:\n",
    "    if elem.tag == 'node' and event == 'end':\n",
    "        tag_data = []  # store all keys of tags.\n",
    "        gnis = 'N'\n",
    "        for child in elem.iter('tag'):\n",
    "            tag_data.append(child.attrib['k'])\n",
    "            if child.attrib['k'][0:5] == 'gnis:':\n",
    "                gnis = 'Y'  #Its a gnis node\n",
    "                \n",
    "        if gnis == 'Y':\n",
    "            count_gnis += 1\n",
    "            for key in tag_data:\n",
    "                if key in gnis_keys:\n",
    "                    gnis_keys[key] += 1\n",
    "                else:\n",
    "                    gnis_keys[key] = 1\n",
    "         \n",
    "    if event == 'end':\n",
    "        root.clear()\n",
    "\n",
    "print 'Total gnis nodes: ', count_gnis\n",
    "pprint.pprint(gnis_keys)"
   ]
  },
  {
   "cell_type": "markdown",
   "metadata": {},
   "source": [
    "<h1> Section 7: distinct street names "
   ]
  },
  {
   "cell_type": "code",
   "execution_count": 7,
   "metadata": {
    "collapsed": false
   },
   "outputs": [],
   "source": [
    "# print distinct values of addr:street with their count\n",
    "# we know uaually last word of street defines type of street (County, drive, street etc), so \n",
    "# lets print all last words and see if any unfamiliar (but might be correct) words.\n",
    "import pprint\n",
    "import re\n",
    "import xml.etree.cElementTree as ET\n",
    "\n",
    "osm_file = 'BuffaloNiagaraArea.osm'\n",
    "\n",
    "#Street names for each country, Unknown dictionary where country is not determined\n",
    "addr_streets = {'US': {}, 'CA': {}, 'Unknown': {}}\n",
    "street_types = {'US': {}, 'CA': {}, 'Unknown': {}}\n",
    "total_addr = {'US': 0, 'CA': 0, 'Unknown': 0}\n",
    "\n",
    "noCounrty_nodes_keys = {}  \n",
    "\n",
    "#Please come back to round-2 code after you read analysis of this section result \n",
    "source_values = {}\n",
    "\n",
    "context = ET.iterparse(osm_file, events=('start', 'end'))\n",
    "_, root = next(context)\n",
    "for event, elem in context:\n",
    "    if elem.tag == 'node' and event == 'end':\n",
    "        tag_data = {}\n",
    "        street = 'N'\n",
    "        for child in elem.iter('tag'):\n",
    "            tag_data[child.attrib['k']] = child.attrib['v']\n",
    "            if child.attrib['k'] == 'addr:street':\n",
    "                street = 'Y'  #The node has street\n",
    "                \n",
    "        if street == 'N':\n",
    "            continue  #go to next node if it's not addr node\n",
    "        \n",
    "        country = 'Unknown'\n",
    "        if 'addr:country' in tag_data:\n",
    "            country = tag_data['addr:country'] \n",
    "            \n",
    "            # postcodes and city names will be cleaned later, but here we just compare as it is in OSM       \n",
    "        elif 'addr:postcode' in tag_data:\n",
    "            if tag_data['addr:postcode'][0:2] == '14':\n",
    "                country = 'US'\n",
    "            elif len(tag_data['addr:postcode']) > 5:\n",
    "                country = 'CA'\n",
    "\n",
    "        elif 'addr:province' in tag_data:\n",
    "            country = 'CA'\n",
    "\n",
    "        elif 'addr:state' in tag_data:\n",
    "            if tag_data['addr:state'] in ['ON', 'Ontario']:\n",
    "                country = 'CA'\n",
    "            else:\n",
    "                country = 'US' \n",
    "        \n",
    "        elif 'addr:city' in tag_data:\n",
    "            if tag_data['addr:city'] in ['City of Niagara Falls', 'City of Port Colborne', \\\n",
    "                                         'Niagara Falls', 'Niagara Falls, ON', 'Town of Fort Erie', \\\n",
    "                                         'Town of Niagara-On-The-Lake']:\n",
    "                country = 'CA'\n",
    "            elif tag_data['addr:city'] == '': # we have one city with no Value, if country for that node hasn't been\n",
    "                None                         # determined above, it goes as Unknown.\n",
    "            else:\n",
    "                country = 'US'\n",
    "        # Round-3\n",
    "        #elif 'source' in tag_data and tag_data['source'] == 'StatCan 92-500-X':\n",
    "        #    country = 'CA'\n",
    "                   \n",
    "        # update street names and count\n",
    "        if tag_data['addr:street'] in addr_streets[country]:\n",
    "            addr_streets[country][tag_data['addr:street']] += 1 \n",
    "        else:\n",
    "            addr_streets[country][tag_data['addr:street']] = 1\n",
    "            \n",
    "        # update street types and count\n",
    "        st_stype = tag_data['addr:street'].split(' ')[-1]  # get last word from street name\n",
    "        if st_stype in street_types[country]:\n",
    "            street_types[country][st_stype] += 1 \n",
    "        else:\n",
    "            street_types[country][st_stype] = 1\n",
    "        \n",
    "        #Capture all key attributes of nodes incase country is Unknown\n",
    "        # we will see if any other elemenet can be used to derive country\n",
    "        if country == 'Unknown':\n",
    "            for key in tag_data: \n",
    "                if key in noCounrty_nodes_keys:\n",
    "                    noCounrty_nodes_keys[key] += 1 \n",
    "                else:\n",
    "                    noCounrty_nodes_keys[key] = 1\n",
    "        # Round-2 starts   \n",
    "            if 'source' in tag_data:\n",
    "                if tag_data['source'] in source_values:\n",
    "                    source_values[tag_data['source']] += 1 \n",
    "                else:\n",
    "                    source_values[tag_data['source']] = 1\n",
    "        # Round-2 Ends\n",
    "    \n",
    "        total_addr[country] += 1 \n",
    "                \n",
    "    if event == 'end':\n",
    "        root.clear()\n",
    "        \n",
    "print 'Address Counts in each country: ', total_addr\n",
    "print 'Total streets in US: ', len(addr_streets['US']), '\\n', 'Total streets in CA: ', len(addr_streets['CA']), '\\n', \\\n",
    "        'Total streets in Unknown: ', len(addr_streets['Unknown'])\n",
    "print 'Streets: '\n",
    "pprint.pprint(addr_streets)\n",
    "print 'Street Types: '\n",
    "pprint.pprint(street_types)\n",
    "print 'Unknown country node attributes: '\n",
    "pprint.pprint(noCounrty_nodes_keys)\n",
    "# Round 2\n",
    "print 'Source values: '\n",
    "pprint.pprint(source_values) "
   ]
  },
  {
   "cell_type": "markdown",
   "metadata": {},
   "source": [
    "<h1> Section 8: Create Json file with cleanup method discussed above </h1>\n",
    " (Json schema is same as we used in our MongoDB lesson case study)"
   ]
  },
  {
   "cell_type": "code",
   "execution_count": 50,
   "metadata": {
    "collapsed": false
   },
   "outputs": [],
   "source": [
    "import xml.etree.cElementTree as ET\n",
    "import pprint\n",
    "import re\n",
    "import codecs\n",
    "import json\n",
    "\n",
    "problemchars = re.compile(r'[=\\+/&<>;\\'\"\\?%#$@\\,\\. \\t\\r\\n]')\n",
    "street_types = {'Ln':'Lane', 'Niagara': '', 'Rd':'Road', 'Blvd':'Boulevard', \n",
    "              'Dr': 'Drive', 'St':'Street', 'St.':'Street', 'ave':'Avenue'}\n",
    "city_map = {'City of': '', 'Town of': ''}\n",
    "state_codes = {'ONTARIO': 'ON', 'NEW YORK': 'NY'}\n",
    "us_zip = re.compile(r'^\\d{5}(?:[-\\s]\\d{4})?$')\n",
    "ca_zip = re.compile(r'^[A-Za-z]\\d[A-Za-z][ -]?\\d[A-Za-z]\\d$')\n",
    "\n",
    "CREATED = [ \"version\", \"changeset\", \"timestamp\", \"user\", \"uid\"]\n",
    "\n",
    "def shape_element(element):\n",
    "    if element.tag in [\"node\", \"way\"]:\n",
    "        if element.tag == 'node':\n",
    "            node = {'type': 'node'}\n",
    "            node['pos'] = [float(element.attrib['lat']), float(element.attrib['lon'])] \n",
    "        else:\n",
    "            node = {'type': 'way'}\n",
    "            \n",
    "        node['id'] = element.attrib['id']\n",
    "        node['created'] = {}\n",
    "        for attr in CREATED:\n",
    "            node['created'][attr] = element.attrib[attr]\n",
    "            \n",
    "        for tag in element.iter('tag'):\n",
    "            if tag.attrib['k'][0:11] == 'addr:street:':\n",
    "                continue\n",
    "            if re.match(problemchars, tag.attrib['k']):\n",
    "                continue\n",
    "            if tag.attrib['k'][0:5] == 'addr:':\n",
    "                '''\n",
    "                if 'address' not in node:\n",
    "                    node['address'] = {}\n",
    "                \n",
    "                #program failed at following line for one node, I set in debug in eclipse, node '543619696' has tag \n",
    "                # <tag k=\"address\" v=\"22 Westminster Street, Buffalo, NY 14215\"/>\n",
    "                # this causes node dictionary to have key 'address' with type string, following tag has 'addr:city'\n",
    "                # and it reaches this line to add dict 'city':'Buffalo' inside address and it fails.\n",
    "                \n",
    "                node['address'][tag.attrib['k'].split(':',1)[1]] =  tag.attrib['v'] \n",
    "                '''\n",
    "                # the above if code has been changed after analysing address attributes in next code cell\n",
    "                if 'address' not in node:\n",
    "                    node['address'] = {}\n",
    "                if type(node['address']) == type('string'):\n",
    "                    continue   #if we have address tag, we will ignore addr: tags.\n",
    "                node['address'][tag.attrib['k'].split(':',1)[1]] =  tag.attrib['v']\n",
    "                continue\n",
    "            if tag.attrib['k'][0:5] == 'gnis:':\n",
    "                if 'gnis' not in node:\n",
    "                    node['gnis'] = {}\n",
    "                node['gnis'][tag.attrib['k'].split(':',1)[1]] =  tag.attrib['v']\n",
    "                continue\n",
    "            #Section 2 shows all K attrbutes of Tags,seacmark has lot of attributes, so lets seperate it.\n",
    "            #It would be useful to find semark nodes later using mongoDB query.\n",
    "            if tag.attrib['k'][0:8] == 'seamark:':  \n",
    "                if 'seamark' not in node:\n",
    "                    node['seamark'] = {}\n",
    "                node['seamark'][tag.attrib['k'].split(':',1)[1]] =  tag.attrib['v']\n",
    "                continue\n",
    "                \n",
    "            node[tag.attrib['k']] = tag.attrib['v']\n",
    "            \n",
    "        for count, nd in enumerate(element.iter('nd')):\n",
    "            if count == 0:\n",
    "                node['node_refs'] = []\n",
    "            node['node_refs'].append(nd.attrib['ref'])\n",
    "        \n",
    "        # this code is added to fix problem we have seen in 'addr:' code above.\n",
    "        # this parses one lines address into multiple fields\n",
    "        if 'address' in node and type(node['address']) == type('string'):\n",
    "            addr = node['address'].split(',') \n",
    "            #addr = ['Number Street Name', 'Line 2 (ex: PO box)', 'City', 'State postcode']\n",
    "            node['address'] = {'housenumber': addr[0].strip().split(' ')[0], \n",
    "                               'street': addr[0].strip().split(' ', 1)[1],\n",
    "                               'city': addr[-2].strip(),\n",
    "                               'state':addr[-1].strip().split(' ')[0],\n",
    "                               'postcode':addr[-1].strip().split(' ')[1],\n",
    "                               'country': 'US'}\n",
    "            \n",
    "        # Address cleanup as explained in previous section\n",
    "        if 'address' in node:\n",
    "            if 'street' in node['address']:\n",
    "                for code, desc in street_types.iteritems():\n",
    "                    node['address']['street'] = node['address']['street'].replace(code, desc)\n",
    "                node['address']['street'].capitalize()\n",
    "                \n",
    "            if 'city' in node['address']:\n",
    "                node['address']['city'] = node['address']['city'].split(',')[0] #strip state name\n",
    "                node['address']['city'] = node['address']['city'].split('.')[0] #strip state name\n",
    "                for code, desc in city_map.iteritems():\n",
    "                    node['address']['city'] = node['address']['city'].replace(code, desc)\n",
    "                node['address']['city'].capitalize()\n",
    "                if node['address']['city'] == '':\n",
    "                    del node['address']['city']\n",
    "                \n",
    "            if 'postcode' in node['address']:\n",
    "                if not re.match(us_zip, node['address']['postcode']) and \\\n",
    "                not re.match(ca_zip, node['address']['postcode']):\n",
    "                    del node['address']['postcode']\n",
    "                                    \n",
    "            if 'province' in node['address']:\n",
    "                node['address']['state'] = node['address']['province']\n",
    "                del node['address']['province']\n",
    "            if 'state' in node['address']:\n",
    "                node['address']['state'].upper()\n",
    "                for desc, code in state_codes.iteritems():\n",
    "                    node['address']['state'] = node['address']['state'].replace(desc, code)\n",
    "            \n",
    "            # Derrive country code\n",
    "            if 'country' not in node['address']:\n",
    "                if 'source' in node and node['source'] == 'StatCan 92-500-X':\n",
    "                    node['address']['country'] = 'CA'\n",
    "                elif 'postcode' in node['address']:\n",
    "                    if re.match(us_zip, node['address']['postcode']):\n",
    "                        node['address']['country'] = 'US'\n",
    "                    else:\n",
    "                        node['address']['country'] = 'CA'\n",
    "                elif 'state' in node['address']:\n",
    "                    if node['address']['state'] == 'NY':\n",
    "                        node['address']['country'] = 'US'\n",
    "                    else:\n",
    "                        node['address']['country'] = 'CA'\n",
    "                elif 'city' in node['address']:\n",
    "                    if node['address']['city'] in ['Niagara falls', 'Port colborne', \\\n",
    "                                         'Fort erie', 'Niagara-on-the-lake']:\n",
    "                        node['address']['country'] = 'CA'\n",
    "                    else:\n",
    "                        node['address']['country'] = 'US'\n",
    "                else:\n",
    "                    node['address']['country'] = 'Unknown'\n",
    "                            \n",
    "        return node\n",
    "    else:\n",
    "        return None\n",
    "\n",
    "\n",
    "def process_map(file_in, pretty = False):\n",
    "    # You do not need to change this file\n",
    "    file_out = \"{0}.json\".format(file_in)\n",
    "    \n",
    "    data = []\n",
    "    with codecs.open(file_out, \"w\") as fo:\n",
    "        for _, element in ET.iterparse(file_in):\n",
    "            el = shape_element(element)\n",
    "            if el:\n",
    "                data.append(el)\n",
    "                if pretty:\n",
    "                    fo.write(json.dumps(el, indent=2)+\"\\n\")\n",
    "                else:\n",
    "                    fo.write(json.dumps(el) + \"\\n\")\n",
    "    return data\n",
    "\n",
    "if __name__ == \"__main__\":\n",
    "    process_map('BuffaloNiagaraArea.osm', False)"
   ]
  },
  {
   "cell_type": "markdown",
   "metadata": {},
   "source": [
    "Alright, Json file is created successfully. I have manually verified some data, it's as expected. Ofcourse, my OSM and Json files are just 100 MB, So I am able to open using windows application, if file size is very large, I can't open with simple applications, so I will have to verify programatically."
   ]
  },
  {
   "cell_type": "code",
   "execution_count": 9,
   "metadata": {
    "collapsed": false
   },
   "outputs": [],
   "source": [
    "# This code is to analyse address nodes based on 'addr:' problem in above code cell\n",
    "# Section 2 shows we have 30 nodes with 'address' as key. Lets print all of them and see\n",
    "\n",
    "import pprint\n",
    "import re\n",
    "import xml.etree.cElementTree as ET\n",
    "\n",
    "osm_file = 'BuffaloNiagaraArea.osm'\n",
    "counter = 1\n",
    "context = ET.iterparse(osm_file, events=('start', 'end'))\n",
    "_, root = next(context)\n",
    "\n",
    "node_tags = {}  \n",
    "\n",
    "for event, elem in context:\n",
    "    if elem.tag == 'node' and event == 'end':\n",
    "        \n",
    "        tag_data = {}  # store all keys and values of tags.\n",
    "        for child in elem.iter('tag'):\n",
    "            tag_data[child.attrib['k']] = child.attrib['v']\n",
    "            \n",
    "        if 'address' in tag_data:\n",
    "            print tag_data['address']\n",
    "            node_tags[elem.attrib['id']] = tag_data\n",
    "                    \n",
    "    if event == 'end':\n",
    "        root.clear()\n",
    "\n",
    "pprint.pprint(node_tags)"
   ]
  },
  {
   "cell_type": "markdown",
   "metadata": {},
   "source": [
    "##### Section 9"
   ]
  },
  {
   "cell_type": "code",
   "execution_count": 48,
   "metadata": {
    "collapsed": false
   },
   "outputs": [
    {
     "data": {
      "image/png": "[encoded data removed]",
      "text/plain": [
       "<IPython.core.display.Image object>"
      ]
     },
     "execution_count": 48,
     "metadata": {},
     "output_type": "execute_result"
    }
   ],
   "source": [
    "#JSON file has been successfully imported into mongoDB\n",
    "from IPython.display import Image\n",
    "Image(filename='mongoimport.PNG')"
   ]
  },
  {
   "cell_type": "code",
   "execution_count": 61,
   "metadata": {
    "collapsed": false
   },
   "outputs": [
    {
     "name": "stdout",
     "output_type": "stream",
     "text": [
      "{u'_id': ObjectId('5835e175b24e0d5c61162953'),\n",
      " u'address': {u'city': u'Cheektowaga',\n",
      "              u'country': u'US',\n",
      "              u'housenumber': u'1030',\n",
      "              u'postcode': u'14227',\n",
      "              u'state': u'NY',\n",
      "              u'street': u'Losson Road'},\n",
      " u'amenity': u'library',\n",
      " u'created': {u'changeset': u'8466784',\n",
      "              u'timestamp': u'2011-06-17T17:37:13Z',\n",
      "              u'uid': u'70696',\n",
      "              u'user': u'xybot',\n",
      "              u'version': u'3'},\n",
      " u'id': u'543619612',\n",
      " u'name': u'Cheektowaga Public Library (Julia Boyer Reinstein Library)',\n",
      " u'pos': [42.8805949, -78.7191706],\n",
      " u'type': u'node'}\n",
      "{u'_id': ObjectId('5835e175b24e0d5c61162955'),\n",
      " u'address': {u'city': u'Cheektowaga',\n",
      "              u'country': u'US',\n",
      "              u'housenumber': u'2660',\n",
      "              u'postcode': u'14227',\n",
      "              u'state': u'NY',\n",
      "              u'street': u'William Streetreet'},\n",
      " u'amenity': u'library',\n",
      " u'created': {u'changeset': u'11100494',\n",
      "              u'timestamp': u'2012-03-25T23:04:14Z',\n",
      "              u'uid': u'70696',\n",
      "              u'user': u'xybot',\n",
      "              u'version': u'2'},\n",
      " u'id': u'543619617',\n",
      " u'name': u'South Cheektowaga Library (Cheektowaga)',\n",
      " u'pos': [42.88426, -78.77226],\n",
      " u'type': u'node'}\n",
      "{u'_id': ObjectId('5835e17db24e0d5c611a9575'),\n",
      " u'address': {u'city': u'Buffalo',\n",
      "              u'country': u'US',\n",
      "              u'housenumber': u'2918',\n",
      "              u'neighbourhood': u'Sloan',\n",
      "              u'postcode': u'14227',\n",
      "              u'street': u'Williams'},\n",
      " u'created': {u'changeset': u'38030856',\n",
      "              u'timestamp': u'2016-03-23T23:27:55Z',\n",
      "              u'uid': u'36737',\n",
      "              u'user': u'gadget',\n",
      "              u'version': u'1'},\n",
      " u'id': u'4076041854',\n",
      " u'laundry_service': u'yes',\n",
      " u'name': u'Williams Street Laundry',\n",
      " u'opening_hours': u'Mo-Fr 07:00-22:30;Sa-Su 08:00-21:00',\n",
      " u'phone': u'+1 716 895 8998',\n",
      " u'pos': [42.8843254, -78.7627891],\n",
      " u'self_service': u'yes',\n",
      " u'shop': u'laundry',\n",
      " u'type': u'node'}\n"
     ]
    }
   ],
   "source": [
    "# Lets try finding some data in collection openstreet to verify import\n",
    "# Please refere back to section 3 result, it shows zip code 14227 with count 1. Lets try query that.\n",
    "# infact this is my town, I would like to know whats in this node.\n",
    "from pymongo import MongoClient\n",
    "import pprint\n",
    "\n",
    "client = MongoClient('localhost:27017')\n",
    "db = client.maps\n",
    "cursor = db.openstreet.find({'address.postcode': '14227'})\n",
    "\n",
    "for document in cursor:\n",
    "    pprint.pprint(document)"
   ]
  },
  {
   "cell_type": "markdown",
   "metadata": {},
   "source": [
    "hmmm...we expected one, but got 3 of them. Yes, Section 3 result was only from 'addr:postcode', but we have also parsed 'address' attribute of <tag> in our previous section to create json file. That has 2 more.\n",
    "\n",
    "Not important, :-) my current location is printed above. I am right now sitting in 'Cheektowaga Public Library' (1st node above). I have done most of this project in this quiet library.\n",
    "\n",
    "Alright initial verification is successful, lets try getting some more options out of this data based on Tag attributes we have listed in section 2 result.\n",
    "\n",
    "(JSON file is not huge, so I would go ahead to run queries with no indexes, if we see requirement of it anytime, we will create)"
   ]
  },
  {
   "cell_type": "code",
   "execution_count": 12,
   "metadata": {
    "collapsed": false
   },
   "outputs": [],
   "source": [
    "# I see 'amenity' in > 2000 nodes and ways. Lets try to see what we got \n",
    "from pymongo import MongoClient\n",
    "import pprint\n",
    "\n",
    "client = MongoClient('localhost:27017')\n",
    "db = client.maps\n",
    "\n",
    "pipeline = [{\"$group\": {\"_id\": {\"type\":\"$type\", \"amenity\":\"$amenity\"}, \n",
    "                        \"count\":{\"$sum\":1}}}, \n",
    "            {\"$sort\":{\"_id.type\":1,\"count\":-1}}] \n",
    "           \n",
    "amenities = db.openstreet.aggregate(pipeline)\n",
    "for amenity in amenities:\n",
    "    pprint.pprint(amenity)\n",
    "\n"
   ]
  },
  {
   "cell_type": "markdown",
   "metadata": {},
   "source": [
    "Oops, seems something incorrect! we have additional types (not just Node and way). If I look at section 2 result, seems way has tag's with attribute 'type', JSON file creation has overriden program creation type node/way.\n",
    "\n",
    "I have verified other fields created in our program, we don't have conflict for others. We have 2 options to correct this.\n",
    "1. GO back to Section 8, add code to rename 'type' attribute of tag and rerun all steps from there.\n",
    "2. We know only way has 'type' in tags, so we can directly update documents in mongoDB where type is not way or node. We should rename current 'type' and add 'type':'way'\n",
    "\n",
    "for me 2nd option is easier."
   ]
  },
  {
   "cell_type": "code",
   "execution_count": 80,
   "metadata": {
    "collapsed": false
   },
   "outputs": [
    {
     "name": "stdout",
     "output_type": "stream",
     "text": [
      "83\n",
      "{u'node_refs': [u'256531100', u'111635740', u'3350678925', u'4231385094'], u'name': u'Riverwalk', u'tiger:cfcc': u'A71', u'created': {u'changeset': u'39877549', u'version': u'33', u'uid': u'36737', u'timestamp': u'2016-06-08T06:38:09Z', u'user': u'gadget'}, u'route': u'bicycle', u'tiger:reviewed': u'no', u'state': u'proposed', u'tiger:county': u'Erie, NY', u'foot': u'yes', u'_id': ObjectId('5835e17db24e0d5c611af6b6'), u'type': u'route', u'id': u'12274796', u'highway': u'cycleway', u'segregated': u'no'}\n"
     ]
    }
   ],
   "source": [
    "# verify count of type not in 'node' 'way', it should be 83 as Section 2 shows 83 'type' tags in ways.\n",
    "from pymongo import MongoClient\n",
    "import pprint\n",
    "\n",
    "client = MongoClient('localhost:27017')\n",
    "db = client.maps\n",
    "cursor = db.openstreet.find({'type': {'$nin':['node', 'way']}})\n",
    "\n",
    "print db.openstreet.count({'type': {'$nin':['node', 'way']}})\n",
    "print cursor[0]\n",
    " "
   ]
  },
  {
   "cell_type": "code",
   "execution_count": 81,
   "metadata": {
    "collapsed": false
   },
   "outputs": [
    {
     "name": "stderr",
     "output_type": "stream",
     "text": [
      "C:\\Users\\Narasimha\\Anaconda2\\lib\\site-packages\\ipykernel\\__main__.py:12: DeprecationWarning: update is deprecated. Use replace_one, update_one or update_many instead.\n"
     ]
    }
   ],
   "source": [
    "#Ok, above count is good, lets update these 83 documents.\n",
    "from pymongo import MongoClient\n",
    "import pprint\n",
    "\n",
    "client = MongoClient('localhost:27017')\n",
    "db = client.maps\n",
    "cursor = db.openstreet.find({'type': {'$nin':['node', 'way']}})\n",
    "\n",
    "for document in cursor:\n",
    "    document['wayType'] = document['type']\n",
    "    document['type'] = 'way'\n",
    "    db.openstreet.update({'id':document['id']}, document) "
   ]
  },
  {
   "cell_type": "code",
   "execution_count": 14,
   "metadata": {
    "collapsed": false
   },
   "outputs": [],
   "source": [
    "# Lets analyse amenity now\n",
    "\n",
    "from pymongo import MongoClient\n",
    "import pprint\n",
    "\n",
    "client = MongoClient('localhost:27017')\n",
    "db = client.maps\n",
    "#This should match total count in section 2 (2174 + 2339 = 4513)\n",
    "total_amenities = db.openstreet.count({\"amenity\":{\"$exists\": True}})\n",
    "print 'Total nodes/way with Amenity: ', total_amenities\n",
    "assert total_amenities == 4513\n",
    "\n",
    "pipeline = [{'$match': {\"amenity\":{\"$exists\": True}}}, \n",
    "        {\"$group\": {\"_id\": {\"type\":\"$type\", \"amenity\":\"$amenity\"}, \"count\":{\"$sum\":1}}}, \n",
    "        {\"$sort\":{\"type\":1, \"count\":-1}}] \n",
    "           \n",
    "amenities = db.openstreet.aggregate(pipeline)\n",
    "for amenity in amenities:\n",
    "    pprint.pprint(amenity)"
   ]
  },
  {
   "cell_type": "code",
   "execution_count": 12,
   "metadata": {
    "collapsed": false
   },
   "outputs": [
    {
     "data": {
      "text/plain": [
       "[u'id_1', u'amenity_1']"
      ]
     },
     "execution_count": 12,
     "metadata": {},
     "output_type": "execute_result"
    }
   ],
   "source": [
    "# we better have index on streetmap collection\n",
    "from pymongo import IndexModel, ASCENDING, DESCENDING\n",
    "index1 = IndexModel([(\"id\", ASCENDING)])\n",
    "index2 = IndexModel([(\"amenity\", ASCENDING)])\n",
    "db.openstreet.create_indexes([index1, index2])"
   ]
  },
  {
   "cell_type": "code",
   "execution_count": 15,
   "metadata": {
    "collapsed": false
   },
   "outputs": [],
   "source": [
    "#Check if amenity node/way has address\n",
    "from pymongo import MongoClient\n",
    "import pprint\n",
    "\n",
    "client = MongoClient('localhost:27017')\n",
    "db = client.maps\n",
    "# amenities = {parking: {total: 10, addrExist: 6}, ...}\n",
    "amenities = {}\n",
    "\n",
    "#Lets get total count of amenties\n",
    "pipeline = [{'$match': {\"amenity\":{\"$exists\": True}}}, \n",
    "        {\"$group\": {\"_id\": {\"amenity\":\"$amenity\"}, \"count\":{\"$sum\":1}}}] \n",
    "cursor = db.openstreet.aggregate(pipeline)\n",
    "for document in cursor:\n",
    "    amenities[document['_id']['amenity']] = {'total': document['count'], 'addrExist': 0}\n",
    "\n",
    "#Node/way will have address element to count\n",
    "pipeline = [{'$match': {\"amenity\":{\"$exists\": True}, \"address\":{\"$exists\": True}}}, \n",
    "        {\"$group\": {\"_id\": {\"amenity\":\"$amenity\"}, \"addrCount\":{\"$sum\":1}}}] \n",
    "cursor = db.openstreet.aggregate(pipeline)\n",
    "for document in cursor:\n",
    "    amenities[document['_id']['amenity']]['addrExist'] = document['addrCount'] \n",
    "\n",
    "\n",
    "#if way doesn't have address element, any of the related nodes might have\n",
    "cursor = db.openstreet.find({\"type\":\"way\", \"amenity\":{\"$exists\": True}, \"address\":{\"$exists\": False}, \n",
    "                             \"node_refs\":{\"$exists\": True}})\n",
    "for document in cursor:\n",
    "    #query to check nodes with address\n",
    "    if db.openstreet.count({\"type\":\"node\", 'id': {'$in':document['node_refs']}, \"address\":{\"$exists\": True}}) > 0:\n",
    "        amenities[document['_id']['amenity']]['addrExist'] += 1\n",
    "\n",
    "pprint.pprint(amenities)\n",
    "        "
   ]
  },
  {
   "cell_type": "code",
   "execution_count": 77,
   "metadata": {
    "collapsed": false
   },
   "outputs": [
    {
     "name": "stdout",
     "output_type": "stream",
     "text": [
      "Size:  117.317318 MB, Count:  460980\n",
      "Number of Users:  632\n",
      "Number of Nodes, Ways:  395758 65222\n",
      "Number of users for nodes, Ways:  554 460\n",
      "Total Amenities, GNIS Amenities : 4513 536\n"
     ]
    }
   ],
   "source": [
    "#Statistical overview of dataset\n",
    "from pymongo import MongoClient\n",
    "import pprint\n",
    "\n",
    "client = MongoClient('localhost:27017')\n",
    "db = client.maps\n",
    "stats = db.command(\"collstats\", \"openstreet\")\n",
    "print 'Size: ', stats['size']/1e6, 'MB, Count: ', stats['count']\n",
    "print 'Number of Users: ', len(db.openstreet.distinct(\"created.uid\"))\n",
    "print 'Number of Nodes, Ways: ',  db.openstreet.count({\"type\":\"node\"}), db.openstreet.count({\"type\":\"way\"}) \n",
    "print 'Number of users for nodes, Ways: ', len(db.openstreet.distinct(\"created.uid\",{\"type\":\"node\"})), \\\n",
    "                                           len(db.openstreet.distinct(\"created.uid\",{\"type\":\"way\"}))\n",
    "print 'Total Amenities, GNIS Amenities :',db.openstreet.count({\"amenity\":{\"$exists\": True}}), \\\n",
    "                                          db.openstreet.count({\"amenity\":{\"$exists\": True}, \"gnis\":{\"$exists\": True}})"
   ]
  }
 ],
 "metadata": {
  "anaconda-cloud": {},
  "kernelspec": {
   "display_name": "Python [Root]",
   "language": "python",
   "name": "Python [Root]"
  },
  "language_info": {
   "codemirror_mode": {
    "name": "ipython",
    "version": 2
   },
   "file_extension": ".py",
   "mimetype": "text/x-python",
   "name": "python",
   "nbconvert_exporter": "python",
   "pygments_lexer": "ipython2",
   "version": "2.7.12"
  }
 },
 "nbformat": 4,
 "nbformat_minor": 0
}
